{
 "cells": [
  {
   "cell_type": "code",
   "execution_count": 2,
   "metadata": {},
   "outputs": [],
   "source": [
    "import os\n",
    "from dotenv import load_dotenv, dotenv_values\n",
    "from pathlib import Path\n",
    "from yahoo_oauth import OAuth2\n",
    "import json\n",
    "import pandas as pd"
   ]
  },
  {
   "cell_type": "code",
   "execution_count": 3,
   "metadata": {},
   "outputs": [
    {
     "data": {
      "text/plain": [
       "True"
      ]
     },
     "execution_count": 3,
     "metadata": {},
     "output_type": "execute_result"
    }
   ],
   "source": [
    "load_dotenv()"
   ]
  },
  {
   "cell_type": "code",
   "execution_count": 4,
   "metadata": {},
   "outputs": [
    {
     "name": "stderr",
     "output_type": "stream",
     "text": [
      "[2023-11-20 23:18:34,228 DEBUG] [yahoo_oauth.oauth.__init__] Checking \n",
      "[2023-11-20 23:18:34,228 DEBUG] [yahoo_oauth.oauth.token_is_valid] ELAPSED TIME : 704.8138003349304\n",
      "[2023-11-20 23:18:34,229 DEBUG] [yahoo_oauth.oauth.token_is_valid] TOKEN IS STILL VALID\n",
      "[2023-11-20 23:18:34,230 DEBUG] [yahoo_oauth.oauth.token_is_valid] ELAPSED TIME : 704.8158438205719\n",
      "[2023-11-20 23:18:34,231 DEBUG] [yahoo_oauth.oauth.token_is_valid] TOKEN IS STILL VALID\n"
     ]
    }
   ],
   "source": [
    "df = pd.DataFrame(columns=[\n",
    "    'player_key', 'player_name', 'team',\n",
    "    'pg', 'sg', 'sf', 'pf', 'c',\n",
    "    'owner_team_key', 'owner_team_name'\n",
    "])\n",
    "\n",
    "oauth = OAuth2(None, None, from_file=f'{os.getenv('FILES_DIR')}/private.json')\n",
    "if not oauth.token_is_valid():\n",
    "    oauth.refresh_access_token()\n",
    "\n",
    "external_dotenv = Path(f'{os.getenv('FILES_DIR')}/.env')\n",
    "load_dotenv(dotenv_path=external_dotenv)\n",
    "\n",
    "GAME_KEY = os.getenv('GAME_KEY')\n",
    "LEAGUE_ID = os.getenv('LEAGUE_ID')\n",
    "\n",
    "page_num = 0\n",
    "count = 0\n",
    "while True:\n",
    "    uri = f'players;start={page_num};status=T/ownership'\n",
    "    url = 'https://fantasysports.yahooapis.com/fantasy/v2/league/'+GAME_KEY+'.l.'+LEAGUE_ID+'/'+uri\n",
    "    response = oauth.session.get(url, params={'format':'json'})\n",
    "    data = json.loads(response.text)\n",
    "\n",
    "    try:\n",
    "        data['fantasy_content']['league'][1]['players']['0']['player'][0][0]\n",
    "    except TypeError:\n",
    "        break\n",
    "\n",
    "    for each1 in range(24):\n",
    "        for each2 in range(13):\n",
    "            try:\n",
    "                key_value = data['fantasy_content']['league'][1]['players'][str(each1)]['player'][0][each2]\n",
    "            except KeyError:\n",
    "                continue\n",
    "            try:\n",
    "                key_lookup = list(key_value.keys())[0]\n",
    "            except AttributeError:\n",
    "                continue\n",
    "            value_lookup = list(key_value.values())[0]\n",
    "            if key_lookup == 'player_key':\n",
    "                df.loc[count,'player_key'] = value_lookup\n",
    "            elif key_lookup == 'name':\n",
    "                df.loc[count,'player_name'] = value_lookup['full']\n",
    "            elif key_lookup == 'editorial_team_abbr':\n",
    "                df.loc[count,'team'] = value_lookup\n",
    "            elif key_lookup == 'display_position':\n",
    "                list_lookup = value_lookup.split(',')\n",
    "                df.loc[count,'pg'] = 'PG' in list_lookup\n",
    "                df.loc[count,'sg'] = 'SG' in list_lookup\n",
    "                df.loc[count,'sf'] = 'SF' in list_lookup\n",
    "                df.loc[count,'pf'] = 'PF' in list_lookup\n",
    "                df.loc[count,'c'] = 'C' in list_lookup\n",
    "            key_value = data['fantasy_content']['league'][1]['players'][str(each1)]['player'][1]['ownership']\n",
    "            df.loc[count,'owner_team_key'] = key_value['owner_team_key']\n",
    "            df.loc[count,'owner_team_name'] = key_value['owner_team_name']\n",
    "        count += 1\n",
    "\n",
    "    page_num += each1 + 1"
   ]
  },
  {
   "cell_type": "code",
   "execution_count": 5,
   "metadata": {},
   "outputs": [],
   "source": [
    "load_dotenv()\n",
    "df.to_csv(f'{os.getenv('FILES_DIR')}/yahoo.csv')"
   ]
  }
 ],
 "metadata": {
  "kernelspec": {
   "display_name": "yahoo_bball",
   "language": "python",
   "name": "python3"
  },
  "language_info": {
   "codemirror_mode": {
    "name": "ipython",
    "version": 3
   },
   "file_extension": ".py",
   "mimetype": "text/x-python",
   "name": "python",
   "nbconvert_exporter": "python",
   "pygments_lexer": "ipython3",
   "version": "3.12.0"
  }
 },
 "nbformat": 4,
 "nbformat_minor": 2
}
