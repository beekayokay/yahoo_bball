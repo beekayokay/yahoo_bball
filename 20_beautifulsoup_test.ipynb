{
 "cells": [
  {
   "cell_type": "code",
   "execution_count": null,
   "metadata": {},
   "outputs": [],
   "source": [
    "import os\n",
    "from dotenv import load_dotenv, dotenv_values\n",
    "from bs4 import BeautifulSoup\n",
    "import pandas as pd\n",
    "from io import StringIO"
   ]
  },
  {
   "cell_type": "code",
   "execution_count": null,
   "metadata": {},
   "outputs": [],
   "source": [
    "load_dotenv()"
   ]
  },
  {
   "cell_type": "code",
   "execution_count": null,
   "metadata": {},
   "outputs": [],
   "source": [
    "def content_to_df(directory, days):\n",
    "    with open(f'{directory}/content_{days}.html', encoding='utf-8') as f:\n",
    "        soup = BeautifulSoup(f, 'lxml')\n",
    "    table = soup.find('table',{'id':'ContentPlaceHolder1_GridView1'})\n",
    "    df_raw = pd.read_html(StringIO(str(table)))[0]\n",
    "    df = df_raw.copy().drop(columns=['R#', 'TOTAL'])\n",
    "    df.drop_duplicates(inplace=True)\n",
    "    df.reset_index(inplace=True, drop=True)\n",
    "    df['FG%'] = df['FG%'].str.split().str[-1]\n",
    "    df['FT%'] = df['FT%'].str.split().str[-1]\n",
    "    df['3PM'] = df['3PM'].str.split().str[-1]\n",
    "    df['PTS'] = df['PTS'].str.split().str[-1]\n",
    "    df['TREB'] = df['TREB'].str.split().str[-1]\n",
    "    df['AST'] = df['AST'].str.split().str[-1]\n",
    "    df['STL'] = df['STL'].str.split().str[-1]\n",
    "    df['BLK'] = df['BLK'].str.split().str[-1]\n",
    "    df.to_csv(f'{directory}/stats_{days}.csv')"
   ]
  },
  {
   "cell_type": "code",
   "execution_count": null,
   "metadata": {},
   "outputs": [],
   "source": [
    "content_to_df(os.getenv('FILES_DIR'), 30)\n",
    "content_to_df(os.getenv('FILES_DIR'), 14)"
   ]
  }
 ],
 "metadata": {
  "kernelspec": {
   "display_name": "yahoo_bball",
   "language": "python",
   "name": "python3"
  },
  "language_info": {
   "codemirror_mode": {
    "name": "ipython",
    "version": 3
   },
   "file_extension": ".py",
   "mimetype": "text/x-python",
   "name": "python",
   "nbconvert_exporter": "python",
   "pygments_lexer": "ipython3",
   "version": "3.12.0"
  }
 },
 "nbformat": 4,
 "nbformat_minor": 2
}
