{
 "cells": [
  {
   "cell_type": "code",
   "execution_count": null,
   "metadata": {},
   "outputs": [],
   "source": [
    "import os\n",
    "from dotenv import load_dotenv, dotenv_values\n",
    "import pandas as pd"
   ]
  },
  {
   "cell_type": "code",
   "execution_count": null,
   "metadata": {},
   "outputs": [],
   "source": [
    "load_dotenv()"
   ]
  },
  {
   "cell_type": "code",
   "execution_count": null,
   "metadata": {},
   "outputs": [],
   "source": [
    "df_yahoo = pd.read_csv(f'{os.getenv('FILES_DIR')}/yahoo.csv')"
   ]
  },
  {
   "cell_type": "code",
   "execution_count": null,
   "metadata": {},
   "outputs": [],
   "source": [
    "df_stats_30 = pd.read_csv(f'{os.getenv('FILES_DIR')}/stats_30.csv')\n",
    "df_30 = pd.merge(df_stats_30, df_yahoo, left_on='PLAYER', right_on='player_name', how='left')\n",
    "df_30.to_csv(f'{os.getenv('FILES_DIR')}/test_merge_30.csv')"
   ]
  },
  {
   "cell_type": "code",
   "execution_count": null,
   "metadata": {},
   "outputs": [],
   "source": [
    "df_stats_14 = pd.read_csv(f'{os.getenv('FILES_DIR')}/stats_14.csv')\n",
    "df_14 = pd.merge(df_stats_14, df_yahoo, left_on='PLAYER', right_on='player_name', how='left')\n",
    "df_14.to_csv(f'{os.getenv('FILES_DIR')}/test_merge_14.csv')"
   ]
  }
 ],
 "metadata": {
  "kernelspec": {
   "display_name": "yahoo_bball",
   "language": "python",
   "name": "python3"
  },
  "language_info": {
   "codemirror_mode": {
    "name": "ipython",
    "version": 3
   },
   "file_extension": ".py",
   "mimetype": "text/x-python",
   "name": "python",
   "nbconvert_exporter": "python",
   "pygments_lexer": "ipython3",
   "version": "3.12.0"
  }
 },
 "nbformat": 4,
 "nbformat_minor": 2
}
